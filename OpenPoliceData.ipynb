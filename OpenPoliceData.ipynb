{
 "cells": [
  {
   "cell_type": "markdown",
   "id": "d338a5eb-1fad-4c38-b604-b94baa73bc82",
   "metadata": {},
   "source": [
    "# PyCHO Geopandas Workshop"
   ]
  },
  {
   "cell_type": "code",
   "execution_count": null,
   "id": "862d8b65-597e-4e9e-9e45-d9ed868a0cb1",
   "metadata": {},
   "outputs": [],
   "source": [
    "!conda install --yes geopandas descartes folium contextily"
   ]
  },
  {
   "cell_type": "code",
   "execution_count": null,
   "id": "81187123-07c9-49f0-b5ad-14f202b49f08",
   "metadata": {},
   "outputs": [],
   "source": [
    "import pandas as pd\n",
    "import geopandas as gpd\n",
    "import descartes\n",
    "import contextily\n",
    "import matplotlib.pyplot as plt\n",
    "import folium"
   ]
  },
  {
   "cell_type": "markdown",
   "id": "92d724b0-9ebd-4e22-8b9e-998cadf47934",
   "metadata": {},
   "source": [
    "# Open Police Data\n",
    "\n",
    "OpenPoliceData is a Python package that provides easy access to 282 (and growing) incident-level open datasets from police departments around the United States. Datasets include traffic stops, use of force, officer-involved shootings, complaints, and other types of police interactions.\n",
    "\n",
    "Users request data by department name and type of data. The data is returned as a pandas DataFrame. There is no need to manually find the data online or make API calls. "
   ]
  },
  {
   "cell_type": "code",
   "execution_count": null,
   "id": "cc4cfe8e-8196-4a70-8d3a-a116583a481f",
   "metadata": {},
   "outputs": [],
   "source": [
    "!pip install openpolicedata"
   ]
  },
  {
   "cell_type": "code",
   "execution_count": null,
   "id": "752b6cb7-9de1-4cb5-a80f-abe4890504f7",
   "metadata": {},
   "outputs": [],
   "source": [
    "import openpolicedata as opd"
   ]
  },
  {
   "cell_type": "code",
   "execution_count": null,
   "id": "4f7e729f-146f-4095-80e0-db50ace5644b",
   "metadata": {},
   "outputs": [],
   "source": [
    "data = opd.Source(source_name=\"Virginia\")"
   ]
  },
  {
   "cell_type": "code",
   "execution_count": null,
   "id": "fb78e532-d98e-4be2-bffa-b8414263fd75",
   "metadata": {},
   "outputs": [],
   "source": [
    "data.datasets"
   ]
  },
  {
   "cell_type": "code",
   "execution_count": null,
   "id": "67b76d7c-9123-4fe0-97d9-31f7e53452bb",
   "metadata": {},
   "outputs": [],
   "source": [
    "agencies = data.get_agencies(partial_name=\"Richmond\")\n",
    "agencies"
   ]
  },
  {
   "cell_type": "code",
   "execution_count": null,
   "id": "40b35923-8842-4024-be26-c1b680b3389c",
   "metadata": {},
   "outputs": [],
   "source": [
    "agency = \"Richmond Police Department\"\n",
    "table = data.load_from_url(year=2022, table_type='STOPS', agency=agency)\n",
    "table"
   ]
  },
  {
   "cell_type": "code",
   "execution_count": null,
   "id": "a506c73a-9680-4be1-95b0-1a43b13539c6",
   "metadata": {},
   "outputs": [],
   "source": [
    "richmond_df = table.table\n",
    "richmond_df"
   ]
  },
  {
   "cell_type": "code",
   "execution_count": null,
   "id": "576ec62e-aefb-40f0-af9a-cee14817be3c",
   "metadata": {},
   "outputs": [],
   "source": [
    "richmond_df['reason_for_stop'].value_counts()"
   ]
  },
  {
   "cell_type": "markdown",
   "id": "5a1c3cb1-ebd4-4541-8bb2-b312548bb696",
   "metadata": {},
   "source": [
    "## City of Richmond GIS Data\n",
    "\n",
    "[From Richmond GeoHub](https://richmond-geo-hub-cor.hub.arcgis.com/)"
   ]
  },
  {
   "cell_type": "code",
   "execution_count": null,
   "id": "4027208d-b159-4339-a4d4-6bd7c4833b70",
   "metadata": {},
   "outputs": [],
   "source": [
    "# this is the relative path to where the data is stored\n",
    "my_path = './RichmondData'  "
   ]
  },
  {
   "cell_type": "code",
   "execution_count": null,
   "id": "c7be9106-0e4b-454a-b1b7-8b0c97cf341e",
   "metadata": {},
   "outputs": [],
   "source": [
    "richmond_boundary = gpd.read_file(my_path + \"/City_Boundary/City_Boundary.shp\")\n",
    "richmond_boundary.plot()"
   ]
  },
  {
   "cell_type": "markdown",
   "id": "e28f4e0f-3304-4ae5-a826-4443f2856db9",
   "metadata": {},
   "source": [
    "## Coordinate Reference Systems"
   ]
  },
  {
   "cell_type": "code",
   "execution_count": null,
   "id": "5c0f9cf9-c1bc-494f-8236-d8df42ae0be0",
   "metadata": {},
   "outputs": [],
   "source": [
    "richmond_boundary.crs"
   ]
  },
  {
   "cell_type": "code",
   "execution_count": null,
   "id": "9a7ba232-f67f-4877-8f32-115647862222",
   "metadata": {},
   "outputs": [],
   "source": [
    "richmond_boundary = richmond_boundary.to_crs(epsg=4326)\n",
    "richmond_boundary.plot()"
   ]
  },
  {
   "cell_type": "markdown",
   "id": "5fa80169-5c43-4d25-b5d8-23b4c71d0556",
   "metadata": {},
   "source": [
    "## City of Richmond GIS data\n",
    "\n",
    "Available at [Richmond GeoHub](https://richmond-geo-hub-cor.hub.arcgis.com/)"
   ]
  },
  {
   "cell_type": "code",
   "execution_count": null,
   "id": "8e548f01-7d87-4ed0-bc74-7c5703853e75",
   "metadata": {},
   "outputs": [],
   "source": [
    "# find this code in geopanda docs: https://geopandas.org/en/stable/gallery/plotting_basemap_background.html?highlight=basemap\n",
    "\n",
    "ax = richmond_boundary.plot(figsize=(10,8), alpha=0.5)\n",
    "contextily.add_basemap(ax, crs=richmond_boundary.crs)"
   ]
  },
  {
   "cell_type": "code",
   "execution_count": null,
   "id": "fcae885e-9eaf-4532-93f0-fb7ef570ca17",
   "metadata": {},
   "outputs": [],
   "source": [
    "roads = gpd.read_file(my_path + '/Roads.geojson')\n",
    "roads.plot()"
   ]
  },
  {
   "cell_type": "markdown",
   "id": "42fd881f-6ba7-4db4-a62f-def1476bfc84",
   "metadata": {},
   "source": [
    "### Overlay Multiple Layers\n",
    "\n",
    "You can put things on top of eachother just as you would in matplotlib"
   ]
  },
  {
   "cell_type": "code",
   "execution_count": null,
   "id": "51519154-b895-4796-9b48-b6c9642ede5f",
   "metadata": {},
   "outputs": [],
   "source": [
    "fig, ax = plt.subplots(figsize=(10, 8))\n",
    "richmond_boundary.plot(ax=ax, edgecolor='black')\n",
    "roads.plot(ax=ax, color=\"white\")\n",
    "contextily.add_basemap(ax=ax, crs=richmond_boundary.crs)"
   ]
  },
  {
   "cell_type": "code",
   "execution_count": null,
   "id": "d6188d6f-4a4f-40b4-bf3c-68ed66cb5859",
   "metadata": {},
   "outputs": [],
   "source": []
  },
  {
   "cell_type": "code",
   "execution_count": null,
   "id": "b7011366-dfc7-427e-8992-023d1d580a38",
   "metadata": {},
   "outputs": [],
   "source": []
  }
 ],
 "metadata": {
  "kernelspec": {
   "display_name": "Python 3 (ipykernel)",
   "language": "python",
   "name": "python3"
  },
  "language_info": {
   "codemirror_mode": {
    "name": "ipython",
    "version": 3
   },
   "file_extension": ".py",
   "mimetype": "text/x-python",
   "name": "python",
   "nbconvert_exporter": "python",
   "pygments_lexer": "ipython3",
   "version": "3.9.7"
  }
 },
 "nbformat": 4,
 "nbformat_minor": 5
}
