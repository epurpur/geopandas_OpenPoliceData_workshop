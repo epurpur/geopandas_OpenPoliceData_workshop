{
 "cells": [
  {
   "cell_type": "markdown",
   "id": "d338a5eb-1fad-4c38-b604-b94baa73bc82",
   "metadata": {},
   "source": [
    "# PyCHO Geopandas Workshop"
   ]
  },
  {
   "cell_type": "code",
   "execution_count": null,
   "id": "862d8b65-597e-4e9e-9e45-d9ed868a0cb1",
   "metadata": {},
   "outputs": [],
   "source": [
    "!conda install --yes geopandas descartes folium contextily\n",
    "#!pip install geopandas descartes folium contextily"
   ]
  },
  {
   "cell_type": "code",
   "execution_count": null,
   "id": "81187123-07c9-49f0-b5ad-14f202b49f08",
   "metadata": {},
   "outputs": [],
   "source": [
    "import pandas as pd\n",
    "import geopandas as gpd\n",
    "import descartes\n",
    "import contextily\n",
    "import matplotlib.pyplot as plt\n",
    "import folium"
   ]
  },
  {
   "cell_type": "markdown",
   "id": "92d724b0-9ebd-4e22-8b9e-998cadf47934",
   "metadata": {},
   "source": [
    "# Open Police Data\n",
    "\n",
    "[OpenPoliceData](https://github.com/openpolicedata/openpolicedata) is a Python package that provides easy access to 282 (and growing) incident-level open datasets from police departments around the United States. Datasets include traffic stops, use of force, officer-involved shootings, complaints, and other types of police interactions.\n",
    "\n",
    "Users request data by department name and type of data. The data is returned as a pandas DataFrame. There is no need to manually find the data online or make API calls. "
   ]
  },
  {
   "cell_type": "code",
   "execution_count": null,
   "id": "cc4cfe8e-8196-4a70-8d3a-a116583a481f",
   "metadata": {},
   "outputs": [],
   "source": [
    "!pip install openpolicedata"
   ]
  },
  {
   "cell_type": "code",
   "execution_count": null,
   "id": "752b6cb7-9de1-4cb5-a80f-abe4890504f7",
   "metadata": {},
   "outputs": [],
   "source": [
    "import openpolicedata as opd"
   ]
  },
  {
   "cell_type": "code",
   "execution_count": null,
   "id": "4f7e729f-146f-4095-80e0-db50ace5644b",
   "metadata": {},
   "outputs": [],
   "source": [
    "data = opd.Source(source_name=\"Virginia\")"
   ]
  },
  {
   "cell_type": "code",
   "execution_count": null,
   "id": "fb78e532-d98e-4be2-bffa-b8414263fd75",
   "metadata": {},
   "outputs": [],
   "source": [
    "data.datasets"
   ]
  },
  {
   "cell_type": "code",
   "execution_count": null,
   "id": "67b76d7c-9123-4fe0-97d9-31f7e53452bb",
   "metadata": {},
   "outputs": [],
   "source": [
    "agencies_richmond = data.get_agencies(partial_name=\"Richmond\")\n",
    "agencies_charlottesville = data.get_agencies(partial_name=\"Charlottesville\")\n",
    "agencies_virginia_beach = data.get_agencies(partial_name=\"Virginia Beach\")\n",
    "agencies_alexandria = data.get_agencies(partial_name=\"Alexandria\")\n",
    "agencies_arlington = data.get_agencies(partial_name=\"Arlington\")\n",
    "agencies_norfolk = data.get_agencies(partial_name=\"Norfolk\")\n",
    "agencies_newport_news = data.get_agencies(partial_name=\"Newport News\")\n",
    "agencies_chesapeake = data.get_agencies(partial_name=\"Chesapeake\")\n",
    "agencies_roanoke = data.get_agencies(partial_name=\"Roanoke\")\n",
    "agencies_lynchburg = data.get_agencies(partial_name=\"Lynchburg\")\n",
    "\n",
    "print(agencies_richmond)\n",
    "print()\n",
    "print(agencies_charlottesville)\n",
    "print()\n",
    "print(agencies_virginia_beach)\n",
    "print()\n",
    "print(agencies_alexandria)\n",
    "print()\n",
    "print(agencies_arlington)\n",
    "print()\n",
    "print(agencies_norfolk)\n",
    "print()\n",
    "print(agencies_newport_news)\n",
    "print()\n",
    "print(agencies_chesapeake)\n",
    "print()\n",
    "print(agencies_roanoke)\n",
    "print()\n",
    "print(agencies_lynchburg)\n",
    "\n"
   ]
  },
  {
   "cell_type": "markdown",
   "id": "01b9f522-4197-4541-8b81-b69a15fd24c3",
   "metadata": {},
   "source": [
    "<b>Just to give you a preview, the table object for each agency's dataset looks like this.</b>\n",
    "\n",
    "We are getting traffic stops from the dataset. This is the 'table_type='STOPS' part"
   ]
  },
  {
   "cell_type": "code",
   "execution_count": null,
   "id": "4c4eedba-28ce-4af1-9d90-550f752ef054",
   "metadata": {},
   "outputs": [],
   "source": [
    "agency = \"Richmond Police Department\"\n",
    "table = data.load_from_url(year=2021, table_type='STOPS', agency=agency)\n",
    "print(table)\n",
    "\n",
    "print()\n",
    "\n",
    "print(type(table))"
   ]
  },
  {
   "cell_type": "code",
   "execution_count": null,
   "id": "40b35923-8842-4024-be26-c1b680b3389c",
   "metadata": {},
   "outputs": [],
   "source": [
    "police_data_tables = {}\n",
    "\n",
    "agencies = ['Richmond Police Department', 'Charlottesville Police Department', 'Virginia Beach Police Department',  'Alexandria Police Department',\n",
    "           'Norfolk Police Department', 'Newport News Police Department', 'Chesapeake Police Department', 'Roanoke City Police Department', 'Lynchburg Police Department']\n",
    "\n",
    "for agency in agencies:\n",
    "    # get police data for each city in the form of a table\n",
    "    police_data = data.load_from_url(year=2021, table_type='STOPS', agency=agency)\n",
    "    # add this as key/value pair to dictionary\n",
    "    police_data_tables[agency] = police_data.table\n",
    "    \n",
    "# renaming 'Roanoke City Police Department' to just 'Roanoke Police Department' so that it matches all the others\n",
    "police_data_tables['Roanoke Police Department'] = police_data_tables.pop('Roanoke City Police Department')\n",
    "    "
   ]
  },
  {
   "cell_type": "markdown",
   "id": "c45b0cfd-9f21-4173-8e6f-565886e1a4fb",
   "metadata": {},
   "source": [
    "<b>To give another example of the table inside this table object, it is a pandas dataframe!</b>"
   ]
  },
  {
   "cell_type": "code",
   "execution_count": null,
   "id": "a506c73a-9680-4be1-95b0-1a43b13539c6",
   "metadata": {},
   "outputs": [],
   "source": [
    "richmond_df = table.table\n",
    "print(type(richmond_df))\n"
   ]
  },
  {
   "cell_type": "code",
   "execution_count": null,
   "id": "2f5348bd-5f98-4e4e-9121-79d2c03c5cd9",
   "metadata": {},
   "outputs": [],
   "source": [
    "richmond_df"
   ]
  },
  {
   "cell_type": "code",
   "execution_count": null,
   "id": "576ec62e-aefb-40f0-af9a-cee14817be3c",
   "metadata": {},
   "outputs": [],
   "source": [
    "richmond_df['reason_for_stop'].value_counts()"
   ]
  },
  {
   "cell_type": "markdown",
   "id": "5a1c3cb1-ebd4-4541-8bb2-b312548bb696",
   "metadata": {},
   "source": [
    "## City of Richmond GIS Data\n",
    "\n",
    "[From Richmond GeoHub](https://richmond-geo-hub-cor.hub.arcgis.com/)"
   ]
  },
  {
   "cell_type": "code",
   "execution_count": null,
   "id": "4027208d-b159-4339-a4d4-6bd7c4833b70",
   "metadata": {},
   "outputs": [],
   "source": [
    "# this is the relative path to where the data is stored\n",
    "my_path = './GIS_Data'  "
   ]
  },
  {
   "cell_type": "code",
   "execution_count": null,
   "id": "c7be9106-0e4b-454a-b1b7-8b0c97cf341e",
   "metadata": {},
   "outputs": [],
   "source": [
    "richmond_boundary = gpd.read_file(my_path + \"/city_boundaries/Richmond_City_Boundary.shp\")\n",
    "richmond_boundary.plot()"
   ]
  },
  {
   "cell_type": "markdown",
   "id": "0c1c9a0c-9eba-4f01-9e39-78289fc5dd23",
   "metadata": {},
   "source": [
    "### Add a basemap"
   ]
  },
  {
   "cell_type": "code",
   "execution_count": null,
   "id": "8e548f01-7d87-4ed0-bc74-7c5703853e75",
   "metadata": {},
   "outputs": [],
   "source": [
    "# find this code in geopanda docs: https://geopandas.org/en/stable/gallery/plotting_basemap_background.html?highlight=basemap\n",
    "\n",
    "ax = richmond_boundary.plot(figsize=(10,8), alpha=0.5)\n",
    "contextily.add_basemap(ax, crs=richmond_boundary.crs)"
   ]
  },
  {
   "cell_type": "code",
   "execution_count": null,
   "id": "fcae885e-9eaf-4532-93f0-fb7ef570ca17",
   "metadata": {},
   "outputs": [],
   "source": [
    "roads = gpd.read_file(my_path + '/Richmond_Roads.geojson')\n",
    "roads.plot()"
   ]
  },
  {
   "cell_type": "markdown",
   "id": "42fd881f-6ba7-4db4-a62f-def1476bfc84",
   "metadata": {},
   "source": [
    "### Overlay Multiple Layers\n",
    "\n",
    "You can put things on top of eachother just as you would in matplotlib"
   ]
  },
  {
   "cell_type": "code",
   "execution_count": null,
   "id": "51519154-b895-4796-9b48-b6c9642ede5f",
   "metadata": {},
   "outputs": [],
   "source": [
    "fig, ax = plt.subplots(figsize=(10, 8))\n",
    "richmond_boundary.plot(ax=ax, color=\"gray\", edgecolor='black', alpha=0.6)\n",
    "roads.plot(ax=ax, color=\"red\")\n",
    "contextily.add_basemap(ax=ax, crs=richmond_boundary.crs)"
   ]
  },
  {
   "cell_type": "markdown",
   "id": "d2345e41-03d0-4c7b-8501-a82f6eacbd98",
   "metadata": {},
   "source": [
    "# GeoPandas GeoDataFrames\n",
    "\n",
    "A GeoPandas GeoDataFrame is an extension to the pandas dataframe object. A GeoDataFrame has a 'geometry' column that stores the spatial geometry of the object."
   ]
  },
  {
   "cell_type": "code",
   "execution_count": null,
   "id": "b7011366-dfc7-427e-8992-023d1d580a38",
   "metadata": {},
   "outputs": [],
   "source": [
    "roads_clip = roads.iloc[:5]\n",
    "roads_clip"
   ]
  },
  {
   "cell_type": "markdown",
   "id": "a6f66b66-f5dd-4f27-b6d4-f8f0a969082b",
   "metadata": {},
   "source": [
    "# Coordinate Reference Systems"
   ]
  },
  {
   "cell_type": "code",
   "execution_count": null,
   "id": "4250c4b8-5291-41ee-bef2-76f516dc5151",
   "metadata": {},
   "outputs": [],
   "source": [
    "richmond_boundary.crs"
   ]
  },
  {
   "cell_type": "code",
   "execution_count": null,
   "id": "2947bcee-bf27-41dd-bf3e-d1a49e842171",
   "metadata": {},
   "outputs": [],
   "source": [
    "richmond_boundary = richmond_boundary.to_crs(epsg=4326)\n",
    "richmond_boundary.plot()"
   ]
  },
  {
   "cell_type": "code",
   "execution_count": null,
   "id": "612397e4-d82e-4f22-8b3a-2270f240e554",
   "metadata": {},
   "outputs": [],
   "source": [
    "schools = gpd.read_file(my_path + '/Richmond_Public_Schools.geojson')\n",
    "\n",
    "schools['Type'].value_counts()"
   ]
  },
  {
   "cell_type": "markdown",
   "id": "b187c6f9-43f7-4370-a698-7ef97b0ac718",
   "metadata": {},
   "source": [
    "### Add Legend\n",
    "\n",
    "Matplotlib is smart enough to put a legend where there is space in the map. You can manually specify where it goes if you want."
   ]
  },
  {
   "cell_type": "code",
   "execution_count": null,
   "id": "84864f03-0d1a-4972-9307-7db0566867f4",
   "metadata": {},
   "outputs": [],
   "source": [
    "\n",
    "fig, ax = plt.subplots(figsize=(10, 8))\n",
    "richmond_boundary.plot(ax=ax, color=\"gray\", edgecolor='black', alpha=0.35)\n",
    "schools.plot(ax=ax, column='Type', categorical=True, legend=True)           # notice the legend!\n",
    "contextily.add_basemap(ax=ax, crs=schools.crs)"
   ]
  },
  {
   "cell_type": "markdown",
   "id": "aa80db83-e4dd-4fd8-8cde-57e552e94b88",
   "metadata": {},
   "source": [
    "## Bring back the police data"
   ]
  },
  {
   "cell_type": "code",
   "execution_count": null,
   "id": "86945d9a-2c6e-41f0-ae92-bc22931abedc",
   "metadata": {},
   "outputs": [],
   "source": [
    "Richmond = gpd.read_file(my_path + \"/city_boundaries/Richmond_City_Boundary.shp\")\n",
    "Richmond = Richmond.to_crs(epsg=4326)\n",
    "\n",
    "Charlottesville = gpd.read_file(my_path + \"/city_boundaries/Charlottesville_City_Boundary.geojson\")\n",
    "Charlottesville = Charlottesville.to_crs(epsg=4326)\n",
    "\n",
    "Alexandria = gpd.read_file(my_path + \"/city_boundaries/Alexandria_City_Boundary.geojson\")\n",
    "Alexandria = Alexandria.to_crs(epsg=4326)\n",
    "\n",
    "Virginia_Beach = gpd.read_file(my_path + \"/city_boundaries/Virginia_Beach_City_Boundary.geojson\")\n",
    "Virginia_Beach = Virginia_Beach.to_crs(epsg=4326)\n",
    "\n",
    "Norfolk = gpd.read_file(my_path + \"/city_boundaries/Norfolk_City_Boundary.geojson\")\n",
    "Norfolk = Norfolk.to_crs(epsg=4326)\n",
    "\n",
    "Newport_News = gpd.read_file(my_path + \"/city_boundaries/Newport_News_City_Boundary.gpkg\")\n",
    "Newport_News = Newport_News.to_crs(epsg=4326)\n",
    "\n",
    "Chesapeake = gpd.read_file(my_path + \"/city_boundaries/Chesapeake_City_Boundary.geojson\")\n",
    "Chesapeake = Chesapeake.to_crs(epsg=4326)\n",
    "\n",
    "Roanoke = gpd.read_file(my_path + \"/city_boundaries/Roanoke_City_Boundary.gpkg\")\n",
    "Roanoke = Roanoke.to_crs(epsg=4326)\n",
    "\n",
    "Lynchburg = gpd.read_file(my_path + \"/city_boundaries/Lynchburg_City_Boundary.geojson\")\n",
    "Lynchburg = Lynchburg.to_crs(epsg=4326)\n"
   ]
  },
  {
   "cell_type": "code",
   "execution_count": null,
   "id": "f8b65d53-9389-4f23-87d0-e7c9c6ce3c05",
   "metadata": {},
   "outputs": [],
   "source": [
    "cities = [Richmond, Charlottesville, Alexandria, Virginia_Beach, Norfolk, Newport_News, Chesapeake, Roanoke, Lynchburg]\n",
    "\n",
    "fig, ax = plt.subplots(figsize=(10, 8))\n",
    "for i in cities:\n",
    "    i.plot(ax=ax)\n",
    "contextily.add_basemap(ax=ax, crs=Richmond.crs)"
   ]
  },
  {
   "cell_type": "markdown",
   "id": "35bcd846-7b3f-45f2-9fc8-f82ae2fe7128",
   "metadata": {},
   "source": [
    "### Clean up police data"
   ]
  },
  {
   "cell_type": "code",
   "execution_count": null,
   "id": "4c8b73c0-b5c1-434a-bfc6-00f4c0bd5ec8",
   "metadata": {},
   "outputs": [],
   "source": [
    "# I had never done this before! Access the global variables currently in memory using the vars() method\n",
    "# I am doing this because I have a variable above in the 'cities' list with the same name as the police department\n",
    "# rather than making various lists or dictionaries and then adding them to the GeoDataFrames, I can do it all in one loop!\n",
    "myVars = vars()     #accesses global variables in memory\n",
    "\n",
    "# use agency names from police_data_tables dictionary above\n",
    "for city_pd in police_data_tables.keys():\n",
    "\n",
    "    city_name = city_pd.removesuffix(' Police Department')  # cleaning this from end of string\n",
    "    city_name = city_name.replace(' ', '_')                 # replace spaces with underscore\n",
    "    \n",
    "    # make some new data for the purposes of using in our GeoDataFrames\n",
    "    total_traffic_stops = police_data_tables[city_pd].shape[0]    # get count of number of rows in dataframe (ie: number of incidents)\n",
    "    stops_white = police_data_tables[city_pd].loc[police_data_tables[city_pd]['race'] == 'WHITE']\n",
    "    stops_black = police_data_tables[city_pd].loc[police_data_tables[city_pd]['race'] == 'BLACK OR AFRICAN AMERICAN']\n",
    "    \n",
    "    # add police data to GeoDataFrame for each city\n",
    "    myVars[city_name]['total traffic stops'] = total_traffic_stops\n",
    "    myVars[city_name]['stops white'] = stops_white.shape[0]\n",
    "    myVars[city_name]['stops black'] = stops_black.shape[0]\n",
    "    myVars[city_name]['Pct White Stops'] = stops_white.shape[0] / total_traffic_stops\n",
    "    myVars[city_name]['Pct Black Stops'] = stops_black.shape[0] / total_traffic_stops\n",
    "    \n",
    "    # all but Charlottesville tracks Terry Stops so I have to account for this with some error handling\n",
    "    try:\n",
    "        myVars[city_name]['Pct White Terry Stop'] = stops_white['reason_for_stop'].value_counts()['TERRY STOP'] / stops_white.shape[0]\n",
    "        myVars[city_name]['Pct Black Terry Stop'] = stops_black['reason_for_stop'].value_counts()['TERRY STOP'] / stops_black.shape[0]\n",
    "    except:\n",
    "        myVars[city_name]['Pct White Terry Stop'] = 0.0\n",
    "        myVars[city_name]['Pct Black Terry Stop'] = 0.0\n",
    "        \n",
    "    # print(city_name)    \n",
    "    # print(myVars[city_name]['Pct White Terry Stop'])\n",
    "\n"
   ]
  },
  {
   "cell_type": "code",
   "execution_count": null,
   "id": "8ad391d5-9c36-4437-8178-34d2c7a3e0d6",
   "metadata": {},
   "outputs": [],
   "source": [
    "#############START HERE. HOW DO I PLOT ALL THE DATAFRAMES BUT JUST ONE LEGEND?\n",
    "\n",
    "\n",
    "fig, ax = plt.subplots(figsize=(10, 8))\n",
    "for i in cities:\n",
    "    print(i['Pct White Terry Stop'])\n",
    "    i.plot(ax=ax, column='Pct White Terry Stop', edgecolor='black')\n",
    "Richmond.plot(ax=ax, column='Pct White Terry Stop', edgecolor='black', alpha=0.35)\n",
    "#schools.plot(ax=ax, column='Type', categorical=True, legend=True)           # notice the legend!\n",
    "contextily.add_basemap(ax=ax, crs=Richmond.crs)"
   ]
  },
  {
   "cell_type": "markdown",
   "id": "e684a12c-284e-47ba-82a9-53a5c8199344",
   "metadata": {},
   "source": [
    "# Folium - Leaflet.js for python!"
   ]
  },
  {
   "cell_type": "code",
   "execution_count": null,
   "id": "6b1c0b18-44ee-4337-a270-30ce96fd04d1",
   "metadata": {},
   "outputs": [],
   "source": [
    "test = police_data_tables['Norfolk Police Department'].iloc[:10]"
   ]
  },
  {
   "cell_type": "code",
   "execution_count": null,
   "id": "fe133acf-2c83-433d-a1d8-7b3d8d4a5ec7",
   "metadata": {},
   "outputs": [],
   "source": [
    "test"
   ]
  },
  {
   "cell_type": "code",
   "execution_count": null,
   "id": "e67be71e-39db-4ecd-9da4-7252f3e1746a",
   "metadata": {},
   "outputs": [],
   "source": []
  }
 ],
 "metadata": {
  "kernelspec": {
   "display_name": "Python 3 (ipykernel)",
   "language": "python",
   "name": "python3"
  },
  "language_info": {
   "codemirror_mode": {
    "name": "ipython",
    "version": 3
   },
   "file_extension": ".py",
   "mimetype": "text/x-python",
   "name": "python",
   "nbconvert_exporter": "python",
   "pygments_lexer": "ipython3",
   "version": "3.9.7"
  }
 },
 "nbformat": 4,
 "nbformat_minor": 5
}
