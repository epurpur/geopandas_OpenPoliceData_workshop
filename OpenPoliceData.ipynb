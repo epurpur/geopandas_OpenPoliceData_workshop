{
 "cells": [
  {
   "cell_type": "markdown",
   "id": "d338a5eb-1fad-4c38-b604-b94baa73bc82",
   "metadata": {},
   "source": [
    "# PyCHO Geopandas Workshop"
   ]
  },
  {
   "cell_type": "code",
   "execution_count": null,
   "id": "862d8b65-597e-4e9e-9e45-d9ed868a0cb1",
   "metadata": {},
   "outputs": [],
   "source": [
    "!conda install --yes geopandas descartes folium contextily\n",
    "#!pip install geopandas descartes folium contextily"
   ]
  },
  {
   "cell_type": "code",
   "execution_count": null,
   "id": "81187123-07c9-49f0-b5ad-14f202b49f08",
   "metadata": {},
   "outputs": [],
   "source": [
    "import pandas as pd\n",
    "import geopandas as gpd\n",
    "import descartes\n",
    "import contextily\n",
    "import matplotlib.pyplot as plt\n",
    "import folium"
   ]
  },
  {
   "cell_type": "markdown",
   "id": "92d724b0-9ebd-4e22-8b9e-998cadf47934",
   "metadata": {},
   "source": [
    "# Open Police Data\n",
    "\n",
    "[OpenPoliceData](https://github.com/openpolicedata/openpolicedata) is a Python package that provides easy access to 282 (and growing) incident-level open datasets from police departments around the United States. Datasets include traffic stops, use of force, officer-involved shootings, complaints, and other types of police interactions.\n",
    "\n",
    "Users request data by department name and type of data. The data is returned as a pandas DataFrame. There is no need to manually find the data online or make API calls. "
   ]
  },
  {
   "cell_type": "code",
   "execution_count": null,
   "id": "cc4cfe8e-8196-4a70-8d3a-a116583a481f",
   "metadata": {},
   "outputs": [],
   "source": [
    "!pip install openpolicedata"
   ]
  },
  {
   "cell_type": "code",
   "execution_count": null,
   "id": "752b6cb7-9de1-4cb5-a80f-abe4890504f7",
   "metadata": {},
   "outputs": [],
   "source": [
    "import openpolicedata as opd"
   ]
  },
  {
   "cell_type": "code",
   "execution_count": null,
   "id": "4f7e729f-146f-4095-80e0-db50ace5644b",
   "metadata": {},
   "outputs": [],
   "source": [
    "data = opd.Source(source_name=\"Virginia\")"
   ]
  },
  {
   "cell_type": "code",
   "execution_count": null,
   "id": "fb78e532-d98e-4be2-bffa-b8414263fd75",
   "metadata": {},
   "outputs": [],
   "source": [
    "data.datasets"
   ]
  },
  {
   "cell_type": "code",
   "execution_count": null,
   "id": "67b76d7c-9123-4fe0-97d9-31f7e53452bb",
   "metadata": {},
   "outputs": [],
   "source": [
    "agencies_richmond = data.get_agencies(partial_name=\"Richmond\")\n",
    "agencies_charlottesville = data.get_agencies(partial_name=\"Charlottesville\")\n",
    "agencies_virginia_beach = data.get_agencies(partial_name=\"Virginia Beach\")\n",
    "agencies_alexandria = data.get_agencies(partial_name=\"Alexandria\")\n",
    "agencies_arlington = data.get_agencies(partial_name=\"Arlington\")\n",
    "agencies_norfolk = data.get_agencies(partial_name=\"Norfolk\")\n",
    "agencies_newport_news = data.get_agencies(partial_name=\"Newport News\")\n",
    "agencies_chesapeake = data.get_agencies(partial_name=\"Chesapeake\")\n",
    "agencies_roanoke = data.get_agencies(partial_name=\"Roanoke\")\n",
    "agencies_lynchburg = data.get_agencies(partial_name=\"Lynchburg\")\n",
    "\n",
    "print(agencies_richmond)\n",
    "print()\n",
    "print(agencies_charlottesville)\n",
    "print()\n",
    "print(agencies_virginia_beach)\n",
    "print()\n",
    "print(agencies_alexandria)\n",
    "print()\n",
    "print(agencies_arlington)\n",
    "print()\n",
    "print(agencies_norfolk)\n",
    "print()\n",
    "print(agencies_newport_news)\n",
    "print()\n",
    "print(agencies_chesapeake)\n",
    "print()\n",
    "print(agencies_roanoke)\n",
    "print()\n",
    "print(agencies_lynchburg)\n",
    "\n"
   ]
  },
  {
   "cell_type": "markdown",
   "id": "01b9f522-4197-4541-8b81-b69a15fd24c3",
   "metadata": {},
   "source": [
    "<b>Just to give you a preview, the table object for each agency's dataset looks like this.</b>\n",
    "\n",
    "We are getting traffic stops from the dataset. This is the 'table_type='STOPS' part"
   ]
  },
  {
   "cell_type": "code",
   "execution_count": null,
   "id": "4c4eedba-28ce-4af1-9d90-550f752ef054",
   "metadata": {},
   "outputs": [],
   "source": [
    "agency = \"Richmond Police Department\"\n",
    "table = data.load_from_url(year=2021, table_type='STOPS', agency=agency)\n",
    "print(table)\n",
    "\n",
    "print()\n",
    "\n",
    "print(type(table))"
   ]
  },
  {
   "cell_type": "code",
   "execution_count": null,
   "id": "40b35923-8842-4024-be26-c1b680b3389c",
   "metadata": {},
   "outputs": [],
   "source": [
    "police_data_tables = {}\n",
    "\n",
    "agencies = ['Richmond Police Department', 'Charlottesville Police Department', 'Virginia Beach Police Department',  'Alexandria Police Department',\n",
    "           'Norfolk Police Department', 'Newport News Police Department', 'Chesapeake Police Department', 'Roanoke City Police Department', 'Lynchburg Police Department']\n",
    "\n",
    "for agency in agencies:\n",
    "    # get police data for each city in the form of a table\n",
    "    police_data = data.load_from_url(year=2021, table_type='STOPS', agency=agency)\n",
    "    # add this as key/value pair to dictionary\n",
    "    police_data_tables[agency] = police_data.table\n",
    "    \n",
    "# renaming 'Roanoke City Police Department' to just 'Roanoke Police Department' so that it matches all the others\n",
    "police_data_tables['Roanoke Police Department'] = police_data_tables.pop('Roanoke City Police Department')\n",
    "    "
   ]
  },
  {
   "cell_type": "markdown",
   "id": "c45b0cfd-9f21-4173-8e6f-565886e1a4fb",
   "metadata": {},
   "source": [
    "<b>To give another example of the table inside this table object, it is a pandas dataframe!</b>"
   ]
  },
  {
   "cell_type": "code",
   "execution_count": null,
   "id": "a506c73a-9680-4be1-95b0-1a43b13539c6",
   "metadata": {},
   "outputs": [],
   "source": [
    "richmond_df = table.table\n",
    "print(type(richmond_df))\n"
   ]
  },
  {
   "cell_type": "code",
   "execution_count": null,
   "id": "2f5348bd-5f98-4e4e-9121-79d2c03c5cd9",
   "metadata": {},
   "outputs": [],
   "source": [
    "richmond_df"
   ]
  },
  {
   "cell_type": "code",
   "execution_count": null,
   "id": "576ec62e-aefb-40f0-af9a-cee14817be3c",
   "metadata": {},
   "outputs": [],
   "source": [
    "richmond_df['reason_for_stop'].value_counts()"
   ]
  },
  {
   "cell_type": "markdown",
   "id": "5a1c3cb1-ebd4-4541-8bb2-b312548bb696",
   "metadata": {},
   "source": [
    "## City of Richmond GIS Data\n",
    "\n",
    "[From Richmond GeoHub](https://richmond-geo-hub-cor.hub.arcgis.com/)"
   ]
  },
  {
   "cell_type": "code",
   "execution_count": null,
   "id": "4027208d-b159-4339-a4d4-6bd7c4833b70",
   "metadata": {},
   "outputs": [],
   "source": [
    "# this is the relative path to where the data is stored\n",
    "my_path = './GIS_Data'  "
   ]
  },
  {
   "cell_type": "code",
   "execution_count": null,
   "id": "c7be9106-0e4b-454a-b1b7-8b0c97cf341e",
   "metadata": {},
   "outputs": [],
   "source": [
    "richmond_boundary = gpd.read_file(my_path + \"/city_boundaries/Richmond_City_Boundary.shp\")\n",
    "richmond_boundary.plot()"
   ]
  },
  {
   "cell_type": "markdown",
   "id": "0c1c9a0c-9eba-4f01-9e39-78289fc5dd23",
   "metadata": {},
   "source": [
    "### Add a basemap"
   ]
  },
  {
   "cell_type": "code",
   "execution_count": null,
   "id": "8e548f01-7d87-4ed0-bc74-7c5703853e75",
   "metadata": {},
   "outputs": [],
   "source": [
    "# find this code in geopanda docs: https://geopandas.org/en/stable/gallery/plotting_basemap_background.html?highlight=basemap\n",
    "\n",
    "ax = richmond_boundary.plot(figsize=(10,8), alpha=0.5)\n",
    "contextily.add_basemap(ax, crs=richmond_boundary.crs)"
   ]
  },
  {
   "cell_type": "code",
   "execution_count": null,
   "id": "fcae885e-9eaf-4532-93f0-fb7ef570ca17",
   "metadata": {},
   "outputs": [],
   "source": [
    "roads = gpd.read_file(my_path + '/Richmond_Roads.geojson')\n",
    "roads.plot()"
   ]
  },
  {
   "cell_type": "markdown",
   "id": "42fd881f-6ba7-4db4-a62f-def1476bfc84",
   "metadata": {},
   "source": [
    "### Overlay Multiple Layers\n",
    "\n",
    "You can put things on top of eachother just as you would in matplotlib"
   ]
  },
  {
   "cell_type": "code",
   "execution_count": null,
   "id": "51519154-b895-4796-9b48-b6c9642ede5f",
   "metadata": {},
   "outputs": [],
   "source": [
    "richmond_boundary = richmond_boundary.to_crs(epsg=4326)   # we will talk about this next\n",
    "\n",
    "fig, ax = plt.subplots(figsize=(10, 8))\n",
    "richmond_boundary.plot(ax=ax, color=\"gray\", edgecolor='black', alpha=0.6)\n",
    "roads.plot(ax=ax, color=\"red\")\n",
    "contextily.add_basemap(ax=ax, crs=richmond_boundary.crs)\n",
    "\n"
   ]
  },
  {
   "cell_type": "markdown",
   "id": "d2345e41-03d0-4c7b-8501-a82f6eacbd98",
   "metadata": {},
   "source": [
    "# GeoPandas GeoDataFrames\n",
    "\n",
    "A GeoPandas GeoDataFrame is an extension to the pandas dataframe object. A GeoDataFrame has a 'geometry' column that stores the spatial geometry of the object."
   ]
  },
  {
   "cell_type": "code",
   "execution_count": null,
   "id": "b7011366-dfc7-427e-8992-023d1d580a38",
   "metadata": {},
   "outputs": [],
   "source": [
    "roads_clip = roads.iloc[:5]\n",
    "roads_clip"
   ]
  },
  {
   "cell_type": "markdown",
   "id": "a6f66b66-f5dd-4f27-b6d4-f8f0a969082b",
   "metadata": {},
   "source": [
    "# Coordinate Reference Systems"
   ]
  },
  {
   "cell_type": "code",
   "execution_count": null,
   "id": "4250c4b8-5291-41ee-bef2-76f516dc5151",
   "metadata": {},
   "outputs": [],
   "source": [
    "richmond_boundary.crs"
   ]
  },
  {
   "cell_type": "code",
   "execution_count": null,
   "id": "2947bcee-bf27-41dd-bf3e-d1a49e842171",
   "metadata": {},
   "outputs": [],
   "source": [
    "richmond_boundary = richmond_boundary.to_crs(epsg=4326)\n",
    "richmond_boundary.plot()"
   ]
  },
  {
   "cell_type": "code",
   "execution_count": null,
   "id": "612397e4-d82e-4f22-8b3a-2270f240e554",
   "metadata": {},
   "outputs": [],
   "source": [
    "schools = gpd.read_file(my_path + '/Richmond_Public_Schools.geojson')\n",
    "\n",
    "schools['Type'].value_counts()"
   ]
  },
  {
   "cell_type": "markdown",
   "id": "b187c6f9-43f7-4370-a698-7ef97b0ac718",
   "metadata": {},
   "source": [
    "### Add Legend\n",
    "\n",
    "Matplotlib is smart enough to put a legend where there is space in the map. You can manually specify where it goes if you want."
   ]
  },
  {
   "cell_type": "code",
   "execution_count": null,
   "id": "84864f03-0d1a-4972-9307-7db0566867f4",
   "metadata": {},
   "outputs": [],
   "source": [
    "\n",
    "fig, ax = plt.subplots(figsize=(10, 8))\n",
    "richmond_boundary.plot(ax=ax, color=\"gray\", edgecolor='black', alpha=0.35)\n",
    "schools.plot(ax=ax, column='Type', categorical=True, legend=True)           # notice the legend!\n",
    "contextily.add_basemap(ax=ax, crs=schools.crs)"
   ]
  },
  {
   "cell_type": "markdown",
   "id": "aa80db83-e4dd-4fd8-8cde-57e552e94b88",
   "metadata": {},
   "source": [
    "## Bring back the police data"
   ]
  },
  {
   "cell_type": "code",
   "execution_count": null,
   "id": "86945d9a-2c6e-41f0-ae92-bc22931abedc",
   "metadata": {},
   "outputs": [],
   "source": [
    "Richmond = gpd.read_file(my_path + \"/city_boundaries/Richmond_City_Boundary.shp\")\n",
    "Richmond = Richmond.to_crs(epsg=4326)\n",
    "\n",
    "Charlottesville = gpd.read_file(my_path + \"/city_boundaries/Charlottesville_City_Boundary.geojson\")\n",
    "Charlottesville = Charlottesville.to_crs(epsg=4326)\n",
    "\n",
    "Alexandria = gpd.read_file(my_path + \"/city_boundaries/Alexandria_City_Boundary.geojson\")\n",
    "Alexandria = Alexandria.to_crs(epsg=4326)\n",
    "\n",
    "Virginia_Beach = gpd.read_file(my_path + \"/city_boundaries/Virginia_Beach_City_Boundary.geojson\")\n",
    "Virginia_Beach = Virginia_Beach.to_crs(epsg=4326)\n",
    "\n",
    "Norfolk = gpd.read_file(my_path + \"/city_boundaries/Norfolk_City_Boundary.geojson\")\n",
    "Norfolk = Norfolk.to_crs(epsg=4326)\n",
    "\n",
    "Newport_News = gpd.read_file(my_path + \"/city_boundaries/Newport_News_City_Boundary.gpkg\")\n",
    "Newport_News = Newport_News.to_crs(epsg=4326)\n",
    "\n",
    "Chesapeake = gpd.read_file(my_path + \"/city_boundaries/Chesapeake_City_Boundary.geojson\")\n",
    "Chesapeake = Chesapeake.to_crs(epsg=4326)\n",
    "\n",
    "Roanoke = gpd.read_file(my_path + \"/city_boundaries/Roanoke_City_Boundary.gpkg\")\n",
    "Roanoke = Roanoke.to_crs(epsg=4326)\n",
    "\n",
    "Lynchburg = gpd.read_file(my_path + \"/city_boundaries/Lynchburg_City_Boundary.geojson\")\n",
    "Lynchburg = Lynchburg.to_crs(epsg=4326)\n"
   ]
  },
  {
   "cell_type": "code",
   "execution_count": null,
   "id": "f8b65d53-9389-4f23-87d0-e7c9c6ce3c05",
   "metadata": {},
   "outputs": [],
   "source": [
    "cities = [Richmond, Charlottesville, Alexandria, Virginia_Beach, Norfolk, Newport_News, Chesapeake, Roanoke, Lynchburg]\n",
    "\n",
    "fig, ax = plt.subplots(figsize=(10, 8))\n",
    "for i in cities:\n",
    "    i.plot(ax=ax)\n",
    "contextily.add_basemap(ax=ax, crs=Richmond.crs)"
   ]
  },
  {
   "cell_type": "markdown",
   "id": "35bcd846-7b3f-45f2-9fc8-f82ae2fe7128",
   "metadata": {},
   "source": [
    "### Clean up police data"
   ]
  },
  {
   "cell_type": "code",
   "execution_count": null,
   "id": "4c8b73c0-b5c1-434a-bfc6-00f4c0bd5ec8",
   "metadata": {},
   "outputs": [],
   "source": [
    "# I had never done this before! Access the global variables currently in memory using the vars() method\n",
    "# I am doing this because I have a variable above in the 'cities' list with the same name as the police department\n",
    "# rather than making various lists or dictionaries and then adding them to the GeoDataFrames, I can do it all in one loop!\n",
    "myVars = vars()     #accesses global variables in memory\n",
    "\n",
    "# use agency names from police_data_tables dictionary above\n",
    "for city_pd in police_data_tables.keys():\n",
    "\n",
    "    city_name = city_pd.removesuffix(' Police Department')  # cleaning this from end of string\n",
    "    city_name = city_name.replace(' ', '_')                 # replace spaces with underscore\n",
    "    \n",
    "    # make some new data for the purposes of using in our GeoDataFrames\n",
    "    total_traffic_stops = police_data_tables[city_pd].shape[0]    # get count of number of rows in dataframe (ie: number of incidents)\n",
    "    stops_white = police_data_tables[city_pd].loc[police_data_tables[city_pd]['race'] == 'WHITE']\n",
    "    stops_black = police_data_tables[city_pd].loc[police_data_tables[city_pd]['race'] == 'BLACK OR AFRICAN AMERICAN']\n",
    "    \n",
    "    # add police data to GeoDataFrame for each city\n",
    "    myVars[city_name]['total traffic stops'] = total_traffic_stops\n",
    "    myVars[city_name]['stops white'] = stops_white.shape[0]\n",
    "    myVars[city_name]['stops black'] = stops_black.shape[0]\n",
    "    myVars[city_name]['Pct White Stops'] = stops_white.shape[0] / total_traffic_stops\n",
    "    myVars[city_name]['Pct Black Stops'] = stops_black.shape[0] / total_traffic_stops\n",
    "    \n",
    "    # all but Charlottesville tracks Terry Stops so I have to account for this with some error handling\n",
    "    try:\n",
    "        myVars[city_name]['Pct White Terry Stop'] = stops_white['reason_for_stop'].value_counts()['TERRY STOP'] / stops_white.shape[0]\n",
    "        myVars[city_name]['Pct Black Terry Stop'] = stops_black['reason_for_stop'].value_counts()['TERRY STOP'] / stops_black.shape[0]\n",
    "    except:\n",
    "        myVars[city_name]['Pct White Terry Stop'] = 0.0\n",
    "        myVars[city_name]['Pct Black Terry Stop'] = 0.0\n",
    "        \n",
    "    \n",
    "print(Richmond['stops white'])\n",
    "print(Richmond['Pct White Terry Stop'])\n",
    "\n"
   ]
  },
  {
   "cell_type": "code",
   "execution_count": null,
   "id": "8ad391d5-9c36-4437-8178-34d2c7a3e0d6",
   "metadata": {},
   "outputs": [],
   "source": [
    "# concatenate all the dataframes into one dataframe called 'all_VA'data'. This is for the purpose of plotting it all together\n",
    "all_VA_data = pd.concat(cities)\n",
    "\n",
    "fig, ax = plt.subplots(figsize=(15, 7))\n",
    "all_VA_data.plot(ax=ax, column='Pct Black Stops', edgecolor='black', legend=True, cmap='OrRd')\n",
    "fig.suptitle('% Black Stops', fontsize=25)\n",
    "contextily.add_basemap(ax=ax, crs=all_VA_data.crs)"
   ]
  },
  {
   "cell_type": "code",
   "execution_count": null,
   "id": "3619180c-0a24-48f4-a8fd-b6f278641e97",
   "metadata": {},
   "outputs": [],
   "source": [
    "fig, ax = plt.subplots(figsize=(15, 7))\n",
    "all_VA_data.plot(ax=ax, column='Pct White Stops', edgecolor='black', legend=True, cmap='OrRd')\n",
    "fig.suptitle('% White Stops', fontsize=25)\n",
    "contextily.add_basemap(ax=ax, crs=all_VA_data.crs)"
   ]
  },
  {
   "cell_type": "code",
   "execution_count": null,
   "id": "82d5f36e-bbcf-4b91-8a07-df734095fefd",
   "metadata": {},
   "outputs": [],
   "source": [
    "\n",
    "fig, ax = plt.subplots(figsize=(15, 7))\n",
    "all_VA_data.plot(ax=ax, column='Pct White Terry Stop', edgecolor='black', legend=True, cmap='OrRd')\n",
    "fig.suptitle('% White Terry Stops', fontsize=25)\n",
    "contextily.add_basemap(ax=ax, crs=all_VA_data.crs)"
   ]
  },
  {
   "cell_type": "code",
   "execution_count": null,
   "id": "bfdfb30e-a8f7-4e07-b5bb-9a1365f7419a",
   "metadata": {},
   "outputs": [],
   "source": [
    "fig, ax = plt.subplots(figsize=(15, 7))\n",
    "all_VA_data.plot(ax=ax, column='Pct Black Terry Stop', edgecolor='black', legend=True, cmap='OrRd')\n",
    "fig.suptitle('% Black Terry Stops', fontsize=25)\n",
    "contextily.add_basemap(ax=ax, crs=all_VA_data.crs)"
   ]
  },
  {
   "cell_type": "markdown",
   "id": "e684a12c-284e-47ba-82a9-53a5c8199344",
   "metadata": {},
   "source": [
    "# Folium - Leaflet.js for python!\n",
    "\n",
    "If anyone here ever uses Javascript, you might be familiar with the mapping library, [Leaflet](https://leafletjs.com/).\n",
    "\n",
    "[Folium](https://python-visualization.github.io/folium/) is another python mapping library built on top of Leaflet. Now, we can make really nice web maps with python instead of Javascript! The strength of folium is in its mapping capabilities. This is not a data manipulation library in the way that GeopPandas is."
   ]
  },
  {
   "cell_type": "code",
   "execution_count": null,
   "id": "6b1c0b18-44ee-4337-a270-30ce96fd04d1",
   "metadata": {},
   "outputs": [],
   "source": [
    "m = folium.Map(location=[37.5407, -77.436], zoom_start=10)\n",
    "m"
   ]
  },
  {
   "cell_type": "markdown",
   "id": "89a9fc31-7ccd-4b56-9798-55fdce2d49da",
   "metadata": {},
   "source": [
    "### Add Data to the Map\n",
    "\n",
    "We can add all the same kinds of data we previously used in GeoPandas"
   ]
  },
  {
   "cell_type": "code",
   "execution_count": null,
   "id": "e67be71e-39db-4ecd-9da4-7252f3e1746a",
   "metadata": {},
   "outputs": [],
   "source": [
    "# notice that I am streaming this data from a URL provided by the city of Richmond's data portal: https://richmond-geo-hub-cor.hub.arcgis.com/datasets/cor::public-libraries/about\n",
    "richmond_libraries = f\"https://services1.arcgis.com/k3vhq11XkBNeeOfM/arcgis/rest/services/PublicLibrary/FeatureServer/0/query?outFields=*&where=1%3D1&f=geojson\"\n",
    "\n",
    "m = folium.Map(\n",
    "    location=[37.5407, -77.436],\n",
    "    zoom_start=11,\n",
    ")\n",
    "\n",
    "folium.GeoJson(richmond_libraries, name=\"geojson\").add_to(m)\n",
    "\n",
    "m"
   ]
  },
  {
   "cell_type": "markdown",
   "id": "ffc0b350-2469-4e37-8615-034863333543",
   "metadata": {},
   "source": [
    "### Choropleth maps\n",
    "\n",
    "Folium has some really nice looking mapping capabilities. These go far beyond the plots of geopandas and matplotlib"
   ]
  },
  {
   "cell_type": "code",
   "execution_count": null,
   "id": "aa03ac5e-4776-4591-91cf-181c860c4bf8",
   "metadata": {},
   "outputs": [],
   "source": [
    "# I got this example straight from the Folium documentation: https://python-visualization.github.io/folium/quickstart.html#Choropleth-maps\n",
    "\n",
    "url = (\n",
    "    \"https://raw.githubusercontent.com/python-visualization/folium/master/examples/data\"\n",
    ")\n",
    "state_geo = f\"{url}/us-states.json\"\n",
    "state_unemployment = f\"{url}/US_Unemployment_Oct2012.csv\"\n",
    "state_data = pd.read_csv(state_unemployment)\n",
    "\n",
    "m = folium.Map(location=[48, -102], zoom_start=3)\n",
    "\n",
    "folium.Choropleth(\n",
    "    geo_data=state_geo,\n",
    "    name=\"choropleth\",\n",
    "    data=state_data,\n",
    "    columns=[\"State\", \"Unemployment\"],\n",
    "    key_on=\"feature.id\",\n",
    "    fill_color=\"YlGn\",\n",
    "    fill_opacity=0.7,\n",
    "    line_opacity=0.2,\n",
    "    legend_name=\"Unemployment Rate (%)\",\n",
    ").add_to(m)\n",
    "\n",
    "folium.LayerControl().add_to(m)\n",
    "\n",
    "m"
   ]
  },
  {
   "cell_type": "markdown",
   "id": "2cc5ce48-d478-451e-8ff6-e70bc98b7291",
   "metadata": {},
   "source": [
    "### Using GeoPandas with Folium"
   ]
  },
  {
   "cell_type": "code",
   "execution_count": null,
   "id": "05880585-4594-4deb-bcdb-c6b4d99eb4d6",
   "metadata": {},
   "outputs": [],
   "source": [
    "#geopandas docs about plotting with folium: https://geopandas.org/en/stable/gallery/plotting_with_folium.html\n",
    "\n",
    "volcanoes = pd.read_csv(my_path + '/volcano_data_2010.csv')\n",
    "\n",
    "# keep only relevant columns\n",
    "volcanoes = volcanoes.loc[:, (\"Year\", \"Name\", \"Country\", \"Latitude\", \"Longitude\", \"Type\")]\n",
    "volcanoes"
   ]
  },
  {
   "cell_type": "code",
   "execution_count": null,
   "id": "815afe0e-c73b-47e9-9658-38f17bd47525",
   "metadata": {},
   "outputs": [],
   "source": [
    "# create point geometries for the volcanoes\n",
    "geometry = gpd.points_from_xy(volcanoes['Longitude'], volcanoes['Latitude'])    # this makes point objects in an array\n",
    "\n",
    "volcanoes['geometry'] = geometry     # add points as new column to geodataframe\n",
    "volcanoes"
   ]
  },
  {
   "cell_type": "code",
   "execution_count": null,
   "id": "71b3aea6-0651-4076-988c-14939d08589e",
   "metadata": {},
   "outputs": [],
   "source": [
    "#make map with OpenStreetMap basemap\n",
    "\n",
    "# OpenStreetMap\n",
    "mymap = folium.Map(location = [0, 0], tiles='OpenStreetMap' , zoom_start = 1)\n",
    "mymap"
   ]
  },
  {
   "cell_type": "markdown",
   "id": "fbefc54b-e49d-454a-8b91-c06e59ac3c8a",
   "metadata": {},
   "source": [
    "### Make Markers for Each Volcano in Folium Map\n",
    "\n",
    "This is tricky stuff but basically we are iterating over each point in the GeoDataFrame and creating a marker for it."
   ]
  },
  {
   "cell_type": "code",
   "execution_count": null,
   "id": "54822089-87d8-4826-8fd4-7a6037fbd790",
   "metadata": {},
   "outputs": [],
   "source": [
    "# Create Markers for Volcanoes\n",
    "\n",
    "# Create a geometry list from the GeoDataFrame\n",
    "geo_df_list = [[point.xy[1][0], point.xy[0][0]] for point in volcanoes.geometry ]\n",
    "\n",
    "# Iterate through list and add a marker for each volcano, color-coded by its type.\n",
    "i = 0\n",
    "for coordinates in geo_df_list:\n",
    "    #assign a color marker for the type of volcano, Strato being the most common\n",
    "    if volcanoes.Type[i] == \"Stratovolcano\":\n",
    "        type_color = \"green\"\n",
    "    elif volcanoes.Type[i] == \"Complex volcano\":\n",
    "        type_color = \"blue\"\n",
    "    elif volcanoes.Type[i] == \"Shield volcano\":\n",
    "        type_color = \"orange\"\n",
    "    elif volcanoes.Type[i] == \"Lava dome\":\n",
    "        type_color = \"pink\"\n",
    "    else:\n",
    "        type_color = \"purple\"\n",
    "\n",
    "\n",
    "    # Place the markers with the popup labels and data\n",
    "    mymap.add_child(folium.Marker(location = coordinates,\n",
    "                            popup =\n",
    "                                \"Year: \" + str(volcanoes.Year[i]) + '<br>' + '<br>' +\n",
    "                                \"Name: \" + str(volcanoes.Name[i]) + '<br>' + '<br>' +\n",
    "                                \"Country: \" + str(volcanoes.Country[i]) + '<br>' '<br>' +\n",
    "                                \"Type: \" + str(volcanoes.Type[i]) + '<br>' '<br>' +\n",
    "                                \"Coordinates: \" + str(geo_df_list[i]),\n",
    "                            icon = folium.Icon(color = \"%s\" % type_color)))\n",
    "    i+=1\n",
    "    \n",
    "mymap"
   ]
  },
  {
   "cell_type": "code",
   "execution_count": null,
   "id": "88ad3965-0b21-48ce-92c3-2797e241afb5",
   "metadata": {},
   "outputs": [],
   "source": []
  }
 ],
 "metadata": {
  "kernelspec": {
   "display_name": "Python 3 (ipykernel)",
   "language": "python",
   "name": "python3"
  },
  "language_info": {
   "codemirror_mode": {
    "name": "ipython",
    "version": 3
   },
   "file_extension": ".py",
   "mimetype": "text/x-python",
   "name": "python",
   "nbconvert_exporter": "python",
   "pygments_lexer": "ipython3",
   "version": "3.9.7"
  }
 },
 "nbformat": 4,
 "nbformat_minor": 5
}
